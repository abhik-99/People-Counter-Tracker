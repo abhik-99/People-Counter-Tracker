{
  "nbformat": 4,
  "nbformat_minor": 0,
  "metadata": {
    "colab": {
      "name": "Original Inference Time Comparison.ipynb",
      "provenance": [],
      "collapsed_sections": [],
      "authorship_tag": "ABX9TyOCxF3VOTVksMYgdbuCoQYF",
      "include_colab_link": true
    },
    "kernelspec": {
      "name": "python3",
      "display_name": "Python 3"
    }
  },
  "cells": [
    {
      "cell_type": "markdown",
      "metadata": {
        "id": "view-in-github",
        "colab_type": "text"
      },
      "source": [
        "<a href=\"https://colab.research.google.com/github/abhik-99/People-Counter-Tracker/blob/master/Submission/Original_Inference_Time_Comparison.ipynb\" target=\"_parent\"><img src=\"https://colab.research.google.com/assets/colab-badge.svg\" alt=\"Open In Colab\"/></a>"
      ]
    },
    {
      "cell_type": "code",
      "metadata": {
        "id": "hgWuhDAfgM-Y",
        "colab_type": "code",
        "colab": {}
      },
      "source": [
        "%tensorflow_version 1.x\n",
        "import tensorflow as tf\n",
        "import cv2\n",
        "import numpy as np\n",
        "import time"
      ],
      "execution_count": 0,
      "outputs": []
    },
    {
      "cell_type": "code",
      "metadata": {
        "id": "Va0lzG4FjH0a",
        "colab_type": "code",
        "colab": {
          "base_uri": "https://localhost:8080/",
          "height": 68
        },
        "outputId": "40eb17c9-5316-4b8f-e93f-d7aa4322f57d"
      },
      "source": [
        "img = cv2.imread(\"people-counter-image.png\")\n",
        "img = cv2.cvtColor(img, cv2.COLOR_BGR2RGB)\n",
        "img_rgb = np.expand_dims(img, 0)\n",
        "\n",
        "\n",
        "predict_fn = tf.contrib.predictor.from_saved_model(\"./saved_model\")\n",
        "start_time = time.time()\n",
        "output_data = predict_fn({\"inputs\": img_rgb})\n",
        "end_time = time.time()\n",
        "\n",
        "print(\"Time Taken for Inference :-\", end_time - start_time)"
      ],
      "execution_count": 14,
      "outputs": [
        {
          "output_type": "stream",
          "text": [
            "INFO:tensorflow:Saver not created because there are no variables in the graph to restore\n",
            "INFO:tensorflow:The specified SavedModel has no variables; no checkpoints were restored.\n",
            "Time Taken for Inference :- 2.9726316928863525\n"
          ],
          "name": "stdout"
        }
      ]
    },
    {
      "cell_type": "code",
      "metadata": {
        "id": "auPBhBlrjJMC",
        "colab_type": "code",
        "colab": {}
      },
      "source": [
        "# For SSD Mobilenet v1 - \n",
        "# 2.6 (Original), 50ms (converted)\n",
        "# For SSD Mobilenet v2 - \n",
        "#  3 sec (original), 70ms (converted)"
      ],
      "execution_count": 0,
      "outputs": []
    },
    {
      "cell_type": "code",
      "metadata": {
        "id": "AuJULDxpxGGy",
        "colab_type": "code",
        "colab": {}
      },
      "source": [
        ""
      ],
      "execution_count": 0,
      "outputs": []
    }
  ]
}